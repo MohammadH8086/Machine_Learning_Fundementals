{
 "cells": [
  {
   "cell_type": "code",
   "execution_count": 1,
   "id": "35d16655",
   "metadata": {},
   "outputs": [],
   "source": [
    "import numpy as np\n",
    "import pandas as pd\n",
    "from sklearn.model_selection import train_test_split \n",
    "from sklearn.preprocessing import scale\n",
    "from sklearn.datasets import fetch_california_housing"
   ]
  },
  {
   "cell_type": "code",
   "execution_count": 16,
   "id": "632131fe",
   "metadata": {},
   "outputs": [],
   "source": [
    "california =fetch_california_housing()\n",
    "x=scale(california.data)\n",
    "y=california.target\n",
    "\n",
    "x_train,x_test,y_train,y_test=train_test_split(x,y,test_size=.2,random_state=42)"
   ]
  },
  {
   "cell_type": "code",
   "execution_count": 17,
   "id": "8c9654dd",
   "metadata": {},
   "outputs": [],
   "source": [
    "from sklearn.neural_network import MLPRegressor"
   ]
  },
  {
   "cell_type": "code",
   "execution_count": 71,
   "id": "2b100338",
   "metadata": {},
   "outputs": [
    {
     "name": "stdout",
     "output_type": "stream",
     "text": [
      "Iteration 1, loss = 0.71919878\n",
      "Iteration 2, loss = 0.34486862\n",
      "Iteration 3, loss = 0.30352028\n",
      "Iteration 4, loss = 0.27259487\n",
      "Iteration 5, loss = 0.26437702\n",
      "Iteration 6, loss = 0.26322052\n",
      "Iteration 7, loss = 0.26387196\n",
      "Iteration 8, loss = 0.26170641\n",
      "Iteration 9, loss = 0.26014924\n",
      "Iteration 10, loss = 0.26053860\n",
      "Iteration 11, loss = 0.26093761\n",
      "Iteration 12, loss = 0.25966303\n",
      "Iteration 13, loss = 0.26010050\n",
      "Iteration 14, loss = 0.26051976\n",
      "Iteration 15, loss = 0.25961910\n",
      "Iteration 16, loss = 0.25992169\n",
      "Iteration 17, loss = 0.25975003\n",
      "Iteration 18, loss = 0.25972395\n",
      "Iteration 19, loss = 0.26076769\n",
      "Iteration 20, loss = 0.25999751\n",
      "Iteration 21, loss = 0.25972513\n",
      "Iteration 22, loss = 0.25950167\n",
      "Iteration 23, loss = 0.26047883\n",
      "Iteration 24, loss = 0.26037843\n",
      "Iteration 25, loss = 0.26186497\n",
      "Iteration 26, loss = 0.26034934\n",
      "Iteration 27, loss = 0.26029532\n",
      "Iteration 28, loss = 0.26039144\n",
      "Iteration 29, loss = 0.26033747\n",
      "Iteration 30, loss = 0.25975664\n",
      "Iteration 31, loss = 0.26018466\n",
      "Iteration 32, loss = 0.26075668\n",
      "Iteration 33, loss = 0.26058918\n",
      "Training loss did not improve more than tol=0.000100 for 10 consecutive epochs. Stopping.\n"
     ]
    }
   ],
   "source": [
    "mlp=MLPRegressor(hidden_layer_sizes=(100),activation='identity',solver='sgd',alpha=.0001,\n",
    "                learning_rate_init=.001,max_iter=100,early_stopping=False,verbose=True)\n",
    "mlp.fit(x_train,y_train)\n",
    "y_pred=mlp.predict(x_test)"
   ]
  },
  {
   "cell_type": "code",
   "execution_count": 72,
   "id": "d1c18761",
   "metadata": {},
   "outputs": [
    {
     "data": {
      "text/plain": [
       "0.6107104344954133"
      ]
     },
     "execution_count": 72,
     "metadata": {},
     "output_type": "execute_result"
    }
   ],
   "source": [
    "mlp.score(x_train,y_train)"
   ]
  },
  {
   "cell_type": "code",
   "execution_count": 73,
   "id": "b6de9e32",
   "metadata": {},
   "outputs": [
    {
     "data": {
      "text/plain": [
       "0.5744574534199969"
      ]
     },
     "execution_count": 73,
     "metadata": {},
     "output_type": "execute_result"
    }
   ],
   "source": [
    "mlp.score(x_test,y_test)"
   ]
  },
  {
   "cell_type": "code",
   "execution_count": 74,
   "id": "42652081",
   "metadata": {},
   "outputs": [
    {
     "data": {
      "text/plain": [
       "1.0"
      ]
     },
     "execution_count": 74,
     "metadata": {},
     "output_type": "execute_result"
    }
   ],
   "source": [
    "mlp.score(x_test,y_pred)"
   ]
  },
  {
   "cell_type": "code",
   "execution_count": null,
   "id": "25097970",
   "metadata": {},
   "outputs": [],
   "source": []
  }
 ],
 "metadata": {
  "kernelspec": {
   "display_name": "Machine_learning_Puyan_Rajiyan",
   "language": "python",
   "name": "machine_learning_puyan_rajiyan"
  },
  "language_info": {
   "codemirror_mode": {
    "name": "ipython",
    "version": 3
   },
   "file_extension": ".py",
   "mimetype": "text/x-python",
   "name": "python",
   "nbconvert_exporter": "python",
   "pygments_lexer": "ipython3",
   "version": "3.12.3"
  }
 },
 "nbformat": 4,
 "nbformat_minor": 5
}
